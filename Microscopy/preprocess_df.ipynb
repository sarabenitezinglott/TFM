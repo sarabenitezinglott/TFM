{
 "cells": [
  {
   "cell_type": "code",
   "execution_count": 1,
   "metadata": {},
   "outputs": [
    {
     "name": "stderr",
     "output_type": "stream",
     "text": [
      "c:\\Users\\saraa\\miniconda3\\envs\\tfm\\lib\\site-packages\\scipy\\__init__.py:155: UserWarning: A NumPy version >=1.18.5 and <1.25.0 is required for this version of SciPy (detected version 1.26.3\n",
      "  warnings.warn(f\"A NumPy version >={np_minversion} and <{np_maxversion}\"\n"
     ]
    }
   ],
   "source": [
    "from src import visualization as vis\n",
    "from src import pre_process\n",
    "from src import cnn\n",
    "\n",
    "import os\n",
    "import cv2\n",
    "import matplotlib.pyplot as plt\n",
    "from IPython.display import display\n",
    "import warnings\n",
    "warnings.filterwarnings(\"ignore\")"
   ]
  },
  {
   "cell_type": "code",
   "execution_count": 2,
   "metadata": {},
   "outputs": [],
   "source": [
    "def napari():\n",
    "    vis.visualize_images(\"D:/TFM/Microscopy/video/3288-1.czi\")\n",
    "    vis.napari_view_splited_channels()\n",
    "\n",
    "# napari()"
   ]
  },
  {
   "cell_type": "code",
   "execution_count": 3,
   "metadata": {},
   "outputs": [
    {
     "name": "stdout",
     "output_type": "stream",
     "text": [
      "['D:/TFM/Microscopy/video/copies/channels/blue', 'D:/TFM/Microscopy/video/copies/channels/green', 'D:/TFM/Microscopy/video/copies/channels/red']\n",
      "Dataframe has been saved to C:/Users/saraa/TFM/Microscopy/data/blue\n",
      "Dataframe has been saved to C:/Users/saraa/TFM/Microscopy/data/green\n",
      "Dataframe has been saved to C:/Users/saraa/TFM/Microscopy/data/red\n",
      "Dataframe has been saved to C:/Users/saraa/TFM/Microscopy/data/rgb\n"
     ]
    }
   ],
   "source": [
    "# 1. Creation of dataframes for each channel independently and all together\n",
    "blue_df, green_df, red_df, df = pre_process.create_df(\"D:/TFM/Microscopy/video/copies/channels/\")\n",
    "\n",
    "def save_df(df_list, path_list, index = True):\n",
    "    for df, path in zip(df_list, path_list): \n",
    "        df.to_csv(path, index = index)\n",
    "        print(f'Dataframe has been saved to {path}')\n",
    "\n",
    "df_list = [blue_df, green_df, red_df, df]\n",
    "path_list = [\"C:/Users/saraa/TFM/Microscopy/data/blue\",\"C:/Users/saraa/TFM/Microscopy/data/green\", \"C:/Users/saraa/TFM/Microscopy/data/red\",\"C:/Users/saraa/TFM/Microscopy/data/rgb\"]\n",
    "save_df(df_list, path_list)"
   ]
  },
  {
   "cell_type": "code",
   "execution_count": 4,
   "metadata": {},
   "outputs": [
    {
     "data": {
      "text/html": [
       "<div>\n",
       "<style scoped>\n",
       "    .dataframe tbody tr th:only-of-type {\n",
       "        vertical-align: middle;\n",
       "    }\n",
       "\n",
       "    .dataframe tbody tr th {\n",
       "        vertical-align: top;\n",
       "    }\n",
       "\n",
       "    .dataframe thead th {\n",
       "        text-align: right;\n",
       "    }\n",
       "</style>\n",
       "<table border=\"1\" class=\"dataframe\">\n",
       "  <thead>\n",
       "    <tr style=\"text-align: right;\">\n",
       "      <th></th>\n",
       "      <th>File_path</th>\n",
       "      <th>Image_id</th>\n",
       "      <th>Channel</th>\n",
       "      <th>Sample</th>\n",
       "      <th>Duplicates</th>\n",
       "      <th>Timepoints</th>\n",
       "      <th>Label</th>\n",
       "    </tr>\n",
       "  </thead>\n",
       "  <tbody>\n",
       "    <tr>\n",
       "      <th>0</th>\n",
       "      <td>D:/TFM/Microscopy/video/copies/channels/green\\...</td>\n",
       "      <td>3288-1g0000</td>\n",
       "      <td>green</td>\n",
       "      <td>3288</td>\n",
       "      <td>1</td>\n",
       "      <td>0000</td>\n",
       "      <td>1</td>\n",
       "    </tr>\n",
       "    <tr>\n",
       "      <th>1</th>\n",
       "      <td>D:/TFM/Microscopy/video/copies/channels/green\\...</td>\n",
       "      <td>3288-1g0001</td>\n",
       "      <td>green</td>\n",
       "      <td>3288</td>\n",
       "      <td>1</td>\n",
       "      <td>0001</td>\n",
       "      <td>1</td>\n",
       "    </tr>\n",
       "    <tr>\n",
       "      <th>2</th>\n",
       "      <td>D:/TFM/Microscopy/video/copies/channels/green\\...</td>\n",
       "      <td>3288-1g0002</td>\n",
       "      <td>green</td>\n",
       "      <td>3288</td>\n",
       "      <td>1</td>\n",
       "      <td>0002</td>\n",
       "      <td>1</td>\n",
       "    </tr>\n",
       "    <tr>\n",
       "      <th>3</th>\n",
       "      <td>D:/TFM/Microscopy/video/copies/channels/green\\...</td>\n",
       "      <td>3288-1g0003</td>\n",
       "      <td>green</td>\n",
       "      <td>3288</td>\n",
       "      <td>1</td>\n",
       "      <td>0003</td>\n",
       "      <td>1</td>\n",
       "    </tr>\n",
       "    <tr>\n",
       "      <th>4</th>\n",
       "      <td>D:/TFM/Microscopy/video/copies/channels/green\\...</td>\n",
       "      <td>3288-1g0004</td>\n",
       "      <td>green</td>\n",
       "      <td>3288</td>\n",
       "      <td>1</td>\n",
       "      <td>0004</td>\n",
       "      <td>1</td>\n",
       "    </tr>\n",
       "    <tr>\n",
       "      <th>...</th>\n",
       "      <td>...</td>\n",
       "      <td>...</td>\n",
       "      <td>...</td>\n",
       "      <td>...</td>\n",
       "      <td>...</td>\n",
       "      <td>...</td>\n",
       "      <td>...</td>\n",
       "    </tr>\n",
       "    <tr>\n",
       "      <th>196</th>\n",
       "      <td>D:/TFM/Microscopy/video/copies/channels/green\\...</td>\n",
       "      <td>3288-1g0196</td>\n",
       "      <td>green</td>\n",
       "      <td>3288</td>\n",
       "      <td>1</td>\n",
       "      <td>0196</td>\n",
       "      <td>1</td>\n",
       "    </tr>\n",
       "    <tr>\n",
       "      <th>197</th>\n",
       "      <td>D:/TFM/Microscopy/video/copies/channels/green\\...</td>\n",
       "      <td>3288-1g0197</td>\n",
       "      <td>green</td>\n",
       "      <td>3288</td>\n",
       "      <td>1</td>\n",
       "      <td>0197</td>\n",
       "      <td>1</td>\n",
       "    </tr>\n",
       "    <tr>\n",
       "      <th>198</th>\n",
       "      <td>D:/TFM/Microscopy/video/copies/channels/green\\...</td>\n",
       "      <td>3288-1g0198</td>\n",
       "      <td>green</td>\n",
       "      <td>3288</td>\n",
       "      <td>1</td>\n",
       "      <td>0198</td>\n",
       "      <td>1</td>\n",
       "    </tr>\n",
       "    <tr>\n",
       "      <th>199</th>\n",
       "      <td>D:/TFM/Microscopy/video/copies/channels/green\\...</td>\n",
       "      <td>3288-1g0199</td>\n",
       "      <td>green</td>\n",
       "      <td>3288</td>\n",
       "      <td>1</td>\n",
       "      <td>0199</td>\n",
       "      <td>1</td>\n",
       "    </tr>\n",
       "    <tr>\n",
       "      <th>200</th>\n",
       "      <td>D:/TFM/Microscopy/video/copies/channels/green\\...</td>\n",
       "      <td>3288-1g0200</td>\n",
       "      <td>green</td>\n",
       "      <td>3288</td>\n",
       "      <td>1</td>\n",
       "      <td>0200</td>\n",
       "      <td>1</td>\n",
       "    </tr>\n",
       "  </tbody>\n",
       "</table>\n",
       "<p>201 rows × 7 columns</p>\n",
       "</div>"
      ],
      "text/plain": [
       "                                             File_path     Image_id Channel  \\\n",
       "0    D:/TFM/Microscopy/video/copies/channels/green\\...  3288-1g0000   green   \n",
       "1    D:/TFM/Microscopy/video/copies/channels/green\\...  3288-1g0001   green   \n",
       "2    D:/TFM/Microscopy/video/copies/channels/green\\...  3288-1g0002   green   \n",
       "3    D:/TFM/Microscopy/video/copies/channels/green\\...  3288-1g0003   green   \n",
       "4    D:/TFM/Microscopy/video/copies/channels/green\\...  3288-1g0004   green   \n",
       "..                                                 ...          ...     ...   \n",
       "196  D:/TFM/Microscopy/video/copies/channels/green\\...  3288-1g0196   green   \n",
       "197  D:/TFM/Microscopy/video/copies/channels/green\\...  3288-1g0197   green   \n",
       "198  D:/TFM/Microscopy/video/copies/channels/green\\...  3288-1g0198   green   \n",
       "199  D:/TFM/Microscopy/video/copies/channels/green\\...  3288-1g0199   green   \n",
       "200  D:/TFM/Microscopy/video/copies/channels/green\\...  3288-1g0200   green   \n",
       "\n",
       "    Sample Duplicates Timepoints  Label  \n",
       "0     3288          1       0000      1  \n",
       "1     3288          1       0001      1  \n",
       "2     3288          1       0002      1  \n",
       "3     3288          1       0003      1  \n",
       "4     3288          1       0004      1  \n",
       "..     ...        ...        ...    ...  \n",
       "196   3288          1       0196      1  \n",
       "197   3288          1       0197      1  \n",
       "198   3288          1       0198      1  \n",
       "199   3288          1       0199      1  \n",
       "200   3288          1       0200      1  \n",
       "\n",
       "[201 rows x 7 columns]"
      ]
     },
     "execution_count": 4,
     "metadata": {},
     "output_type": "execute_result"
    }
   ],
   "source": [
    "green_df"
   ]
  },
  {
   "cell_type": "code",
   "execution_count": 5,
   "metadata": {},
   "outputs": [
    {
     "name": "stdout",
     "output_type": "stream",
     "text": [
      "(1, 201, 3, 1, 940, 940, 1)\n"
     ]
    },
    {
     "name": "stderr",
     "output_type": "stream",
     "text": [
      "100%|██████████| 603/603 [00:49<00:00, 12.29it/s]\n"
     ]
    }
   ],
   "source": [
    "def masks_df(input_stack, type, output_df):\n",
    "    # 2. Generate masks for each microscopy image stack \n",
    "    cnn.mask(input_stack, type)\n",
    "    # 3. Generate mask dataframe\n",
    "    maskdf = pre_process.mask_df(output_df)\n",
    "    return maskdf\n",
    "\n",
    "input_stack = \"D:\\\\TFM\\\\Microscopy\\\\video\\\\3288-1-AP-OP.czi\"\n",
    "type = \"czi\"\n",
    "output_df = 'C:/Users/saraa/TFM/mask/nuclei/'\n",
    "nucleiM = masks_df(input_stack, type, output_df)"
   ]
  },
  {
   "cell_type": "code",
   "execution_count": 6,
   "metadata": {},
   "outputs": [
    {
     "data": {
      "text/html": [
       "<div>\n",
       "<style scoped>\n",
       "    .dataframe tbody tr th:only-of-type {\n",
       "        vertical-align: middle;\n",
       "    }\n",
       "\n",
       "    .dataframe tbody tr th {\n",
       "        vertical-align: top;\n",
       "    }\n",
       "\n",
       "    .dataframe thead th {\n",
       "        text-align: right;\n",
       "    }\n",
       "</style>\n",
       "<table border=\"1\" class=\"dataframe\">\n",
       "  <thead>\n",
       "    <tr style=\"text-align: right;\">\n",
       "      <th></th>\n",
       "      <th>File_path</th>\n",
       "      <th>Image_id</th>\n",
       "      <th>Channel</th>\n",
       "      <th>Timepoints</th>\n",
       "      <th>Label</th>\n",
       "    </tr>\n",
       "  </thead>\n",
       "  <tbody>\n",
       "    <tr>\n",
       "      <th>0</th>\n",
       "      <td>D:/TFM/Microscopy/video/copies/channels/red\\32...</td>\n",
       "      <td>3288-1r0000</td>\n",
       "      <td>red</td>\n",
       "      <td>0000</td>\n",
       "      <td>0</td>\n",
       "    </tr>\n",
       "    <tr>\n",
       "      <th>1</th>\n",
       "      <td>D:/TFM/Microscopy/video/copies/channels/red\\32...</td>\n",
       "      <td>3288-1r0001</td>\n",
       "      <td>red</td>\n",
       "      <td>0001</td>\n",
       "      <td>0</td>\n",
       "    </tr>\n",
       "    <tr>\n",
       "      <th>2</th>\n",
       "      <td>D:/TFM/Microscopy/video/copies/channels/red\\32...</td>\n",
       "      <td>3288-1r0002</td>\n",
       "      <td>red</td>\n",
       "      <td>0002</td>\n",
       "      <td>0</td>\n",
       "    </tr>\n",
       "    <tr>\n",
       "      <th>3</th>\n",
       "      <td>D:/TFM/Microscopy/video/copies/channels/red\\32...</td>\n",
       "      <td>3288-1r0003</td>\n",
       "      <td>red</td>\n",
       "      <td>0003</td>\n",
       "      <td>0</td>\n",
       "    </tr>\n",
       "    <tr>\n",
       "      <th>4</th>\n",
       "      <td>D:/TFM/Microscopy/video/copies/channels/red\\32...</td>\n",
       "      <td>3288-1r0004</td>\n",
       "      <td>red</td>\n",
       "      <td>0004</td>\n",
       "      <td>0</td>\n",
       "    </tr>\n",
       "    <tr>\n",
       "      <th>...</th>\n",
       "      <td>...</td>\n",
       "      <td>...</td>\n",
       "      <td>...</td>\n",
       "      <td>...</td>\n",
       "      <td>...</td>\n",
       "    </tr>\n",
       "    <tr>\n",
       "      <th>196</th>\n",
       "      <td>D:/TFM/Microscopy/video/copies/channels/red\\32...</td>\n",
       "      <td>3288-1r0196</td>\n",
       "      <td>red</td>\n",
       "      <td>0196</td>\n",
       "      <td>0</td>\n",
       "    </tr>\n",
       "    <tr>\n",
       "      <th>197</th>\n",
       "      <td>D:/TFM/Microscopy/video/copies/channels/red\\32...</td>\n",
       "      <td>3288-1r0197</td>\n",
       "      <td>red</td>\n",
       "      <td>0197</td>\n",
       "      <td>0</td>\n",
       "    </tr>\n",
       "    <tr>\n",
       "      <th>198</th>\n",
       "      <td>D:/TFM/Microscopy/video/copies/channels/red\\32...</td>\n",
       "      <td>3288-1r0198</td>\n",
       "      <td>red</td>\n",
       "      <td>0198</td>\n",
       "      <td>0</td>\n",
       "    </tr>\n",
       "    <tr>\n",
       "      <th>199</th>\n",
       "      <td>D:/TFM/Microscopy/video/copies/channels/red\\32...</td>\n",
       "      <td>3288-1r0199</td>\n",
       "      <td>red</td>\n",
       "      <td>0199</td>\n",
       "      <td>0</td>\n",
       "    </tr>\n",
       "    <tr>\n",
       "      <th>200</th>\n",
       "      <td>D:/TFM/Microscopy/video/copies/channels/red\\32...</td>\n",
       "      <td>3288-1r0200</td>\n",
       "      <td>red</td>\n",
       "      <td>0200</td>\n",
       "      <td>0</td>\n",
       "    </tr>\n",
       "  </tbody>\n",
       "</table>\n",
       "<p>201 rows × 5 columns</p>\n",
       "</div>"
      ],
      "text/plain": [
       "                                             File_path     Image_id Channel  \\\n",
       "0    D:/TFM/Microscopy/video/copies/channels/red\\32...  3288-1r0000     red   \n",
       "1    D:/TFM/Microscopy/video/copies/channels/red\\32...  3288-1r0001     red   \n",
       "2    D:/TFM/Microscopy/video/copies/channels/red\\32...  3288-1r0002     red   \n",
       "3    D:/TFM/Microscopy/video/copies/channels/red\\32...  3288-1r0003     red   \n",
       "4    D:/TFM/Microscopy/video/copies/channels/red\\32...  3288-1r0004     red   \n",
       "..                                                 ...          ...     ...   \n",
       "196  D:/TFM/Microscopy/video/copies/channels/red\\32...  3288-1r0196     red   \n",
       "197  D:/TFM/Microscopy/video/copies/channels/red\\32...  3288-1r0197     red   \n",
       "198  D:/TFM/Microscopy/video/copies/channels/red\\32...  3288-1r0198     red   \n",
       "199  D:/TFM/Microscopy/video/copies/channels/red\\32...  3288-1r0199     red   \n",
       "200  D:/TFM/Microscopy/video/copies/channels/red\\32...  3288-1r0200     red   \n",
       "\n",
       "    Timepoints  Label  \n",
       "0         0000      0  \n",
       "1         0001      0  \n",
       "2         0002      0  \n",
       "3         0003      0  \n",
       "4         0004      0  \n",
       "..         ...    ...  \n",
       "196       0196      0  \n",
       "197       0197      0  \n",
       "198       0198      0  \n",
       "199       0199      0  \n",
       "200       0200      0  \n",
       "\n",
       "[201 rows x 5 columns]"
      ]
     },
     "execution_count": 6,
     "metadata": {},
     "output_type": "execute_result"
    }
   ],
   "source": [
    "red = red_df.drop(columns = [\"Sample\", \"Duplicates\"])\n",
    "red\n"
   ]
  },
  {
   "cell_type": "code",
   "execution_count": 7,
   "metadata": {},
   "outputs": [
    {
     "name": "stdout",
     "output_type": "stream",
     "text": [
      "Dataframe has been saved to C:/Users/saraa/TFM/Microscopy/data/nucleiM\n"
     ]
    }
   ],
   "source": [
    "df_list = [nucleiM]\n",
    "path_list = [\"C:/Users/saraa/TFM/Microscopy/data/nucleiM\"]\n",
    "save_df(df_list, path_list)"
   ]
  },
  {
   "cell_type": "code",
   "execution_count": 8,
   "metadata": {},
   "outputs": [],
   "source": [
    "Xtrain, Xtest, Ytrain, Ytest = pre_process.train_valid_split(red, nucleiM)"
   ]
  },
  {
   "cell_type": "code",
   "execution_count": 9,
   "metadata": {},
   "outputs": [
    {
     "name": "stdout",
     "output_type": "stream",
     "text": [
      "Folder train_folder already exists at: D:/TFM/Microscopy/video/copies/img/train_folder\n",
      "Folder val_folder already exists at: D:/TFM/Microscopy/video/copies/img/val_folder\n",
      "Folder train_folder already exists at: D:/TFM/Microscopy/video/copies/masks/train_folder\n",
      "Folder val_folder already exists at: D:/TFM/Microscopy/video/copies/masks/val_folder\n"
     ]
    }
   ],
   "source": [
    "def split_shutil_train_val():\n",
    "    # 1. Creating folders \n",
    "    data_path = \"D:/TFM/Microscopy/video/copies/img/\"\n",
    "    folder_names= [\"train_folder\", \"val_folder\"]\n",
    "    pre_process.createfolders(data_path,folder_names)\n",
    "\n",
    "    data_path = \"D:/TFM/Microscopy/video/copies/masks/\"\n",
    "    folder_names= [\"train_folder\", \"val_folder\"]\n",
    "    pre_process.createfolders(data_path,folder_names)\n",
    "    \n",
    "    # 2. Splitting images data\n",
    "    import shutil\n",
    "    dfs = [Xtrain, Xtest]\n",
    "    paths = [\"D:/TFM/Microscopy/video/copies/img/train_folder/\", \"D:/TFM/Microscopy/video/copies/img/val_folder/\"]\n",
    "    for path, df in zip(paths, dfs):\n",
    "        try: \n",
    "            pre_process.move_images(df, path)\n",
    "        except shutil.Error:\n",
    "            print(f\"The files already exist in the destination path: {path}\")\n",
    "    \n",
    "    # 3. Splitting masks data\n",
    "    dfs = [Ytrain, Ytest]\n",
    "    paths = [\"D:/TFM/Microscopy/video/copies/masks/train_folder/\", \"D:/TFM/Microscopy/video/copies/masks/val_folder/\"]\n",
    "    for path, df in zip(paths, dfs):\n",
    "        try: \n",
    "            pre_process.move_images(df, path)\n",
    "        except shutil.Error:\n",
    "            print(f\"The files already exist in the destination path: {path}\")  \n",
    "\n",
    "# split_shutil_train_val()"
   ]
  },
  {
   "cell_type": "code",
   "execution_count": 10,
   "metadata": {},
   "outputs": [
    {
     "name": "stdout",
     "output_type": "stream",
     "text": [
      "Folder red already exists at: D:/TFM/Microscopy/video/copies/img/train_folder\\red\n",
      "Folder green created at: D:/TFM/Microscopy/video/copies/img/train_folder\\green\n",
      "Folder blue created at: D:/TFM/Microscopy/video/copies/img/train_folder\\blue\n",
      "Folder red already exists at: D:/TFM/Microscopy/video/copies/img/val_folder\\red\n",
      "Folder green created at: D:/TFM/Microscopy/video/copies/img/val_folder\\green\n",
      "Folder blue created at: D:/TFM/Microscopy/video/copies/img/val_folder\\blue\n",
      "Folder red already exists at: D:/TFM/Microscopy/video/copies/masks/train_folder\\red\n",
      "Folder green created at: D:/TFM/Microscopy/video/copies/masks/train_folder\\green\n",
      "Folder blue created at: D:/TFM/Microscopy/video/copies/masks/train_folder\\blue\n",
      "Folder red already exists at: D:/TFM/Microscopy/video/copies/masks/val_folder\\red\n",
      "Folder green created at: D:/TFM/Microscopy/video/copies/masks/val_folder\\green\n",
      "Folder blue created at: D:/TFM/Microscopy/video/copies/masks/val_folder\\blue\n"
     ]
    }
   ],
   "source": [
    "def create_shutil_labels():\n",
    "    # 1. Creating folders \n",
    "    train_path = \"D:/TFM/Microscopy/video/copies/img/train_folder\"\n",
    "    val_path = \"D:/TFM/Microscopy/video/copies/img/val_folder\"\n",
    "    folder_names= [\"red\", \"green\", \"blue\"]\n",
    "    pre_process.createfolders(train_path,folder_names)\n",
    "    pre_process.createfolders(val_path,folder_names)\n",
    "\n",
    "    train_path = \"D:/TFM/Microscopy/video/copies/masks/train_folder\"\n",
    "    val_path = \"D:/TFM/Microscopy/video/copies/masks/val_folder\"\n",
    "    folder_names= [\"red\", \"green\", \"blue\"]\n",
    "    pre_process.createfolders(train_path,folder_names)\n",
    "    pre_process.createfolders(val_path,folder_names)\n",
    "    \n",
    "    # 2. Creating labels for training and testing data\n",
    "    Xtrain[\"new_file_path\"] = \"D:/TFM/Microscopy/video/copies/img/train_folder/\" + Xtrain[\"Image_id\"] + \".tif\"\n",
    "    Xtrain[\"new_file_path\"] = Xtrain[\"new_file_path\"].astype(str)\n",
    "    Xtest[\"new_file_path\"] = \"D:/TFM/Microscopy/video/copies/img/val_folder/\" + Xtest[\"Image_id\"] + \".tif\"\n",
    "    Xtest[\"new_file_path\"] = Xtest[\"new_file_path\"].astype(str)\n",
    "    \n",
    "    Ytrain[\"new_file_path\"] = \"D:/TFM/Microscopy/video/copies/masks/train_folder/\" + Ytrain[\"Image_id\"] + \".png\"\n",
    "    Ytrain[\"new_file_path\"] = Ytrain[\"new_file_path\"].astype(str)\n",
    "    Ytest[\"new_file_path\"] = \"D:/TFM/Microscopy/video/copies/masks/val_folder/\" + Ytest[\"Image_id\"] + \".png\"\n",
    "    Ytest[\"new_file_path\"] = Ytest[\"new_file_path\"].astype(str)\n",
    "    \n",
    "    # 3. Save dataframe\n",
    "    Xtrain.to_csv(\"C:/Users/saraa/TFM/Microscopy/data/img_training\", index = True)\n",
    "    Xtest.to_csv(\"C:/Users/saraa/TFM/Microscopy/data/img_testing\", index = True)\n",
    "    Ytrain.to_csv(\"C:/Users/saraa/TFM/Microscopy/data/mask_training\", index = True)\n",
    "    Ytest.to_csv(\"C:/Users/saraa/TFM/Microscopy/data/mask_testing\", index = True)\n",
    "\n",
    "    # 4. Splitting data for images \n",
    "    img_train_path_red = \"D:/TFM/Microscopy/video/copies/img/train_folder/red\"\n",
    "    # train_path_green = \"D:/TFM/Microscopy/video/copies/train_folder/green\"\n",
    "    # train_path_blue = \"D:/TFM/Microscopy/video/copies/train_folder/blue\"\n",
    "    pre_process.images_class(Xtrain, img_train_path_red)    \n",
    "\n",
    "    img_val_path_red = \"D:/TFM/Microscopy/video/copies/img/val_folder/red\"\n",
    "    # val_path_green = \"D:/TFM/Microscopy/video/copies/val_folder/green\"\n",
    "    # val_path_blue = \"D:/TFM/Microscopy/video/copies/val_folder/blue\"\n",
    "    pre_process.images_class(Xtest, img_val_path_red)\n",
    "\n",
    "    # 5. Splitting data for masks\n",
    "    mask_train_path_red = \"D:/TFM/Microscopy/video/copies/masks/train_folder/red\"\n",
    "    # train_path_green = \"D:/TFM/Microscopy/video/copies/train_folder/green\"\n",
    "    # train_path_blue = \"D:/TFM/Microscopy/video/copies/train_folder/blue\"\n",
    "    pre_process.images_class(Ytrain, mask_train_path_red)    \n",
    "\n",
    "    mask_val_path_red = \"D:/TFM/Microscopy/video/copies/masks/val_folder/red\"\n",
    "    # val_path_green = \"D:/TFM/Microscopy/video/copies/val_folder/green\"\n",
    "    # val_path_blue = \"D:/TFM/Microscopy/video/copies/val_folder/blue\"\n",
    "    pre_process.images_class(Ytest, mask_val_path_red)\n",
    "\n",
    "    return img_train_path_red, img_val_path_red, mask_train_path_red, mask_val_path_red\n",
    "    \n",
    "# img_train_path_red, img_val_path_red, mask_train_path_red, mask_val_path_red = create_shutil_labels()    "
   ]
  },
  {
   "cell_type": "code",
   "execution_count": 11,
   "metadata": {},
   "outputs": [
    {
     "name": "stdout",
     "output_type": "stream",
     "text": [
      "Found 160 images belonging to 3 classes.\n",
      "Found 41 images belonging to 3 classes.\n",
      "Found 160 images belonging to 3 classes.\n",
      "Found 41 images belonging to 3 classes.\n"
     ]
    }
   ],
   "source": [
    "from src import cnn, pre_process\n",
    "from keras.layers import Input\n",
    "from keras.optimizers import Adam\n",
    "\n",
    "img_train_path = \"D:/TFM/Microscopy/video/copies/img/train_folder/\"\n",
    "img_val_path = \"D:/TFM/Microscopy/video/copies/img/val_folder/\"\n",
    "mask_train_path = \"D:/TFM/Microscopy/video/copies/masks/train_folder/\"\n",
    "mask_val_path = \"D:/TFM/Microscopy/video/copies/masks/val_folder/\"\n",
    "\n",
    "img_gen, valid_img_gen, mask_gen, valid_mask_gen = pre_process.get_generator(img_train_path, img_val_path, \n",
    "                                                                             mask_train_path, mask_val_path)"
   ]
  },
  {
   "cell_type": "code",
   "execution_count": 12,
   "metadata": {},
   "outputs": [
    {
     "data": {
      "text/plain": [
       "<generator object combine_generators at 0x000002FAB1100F90>"
      ]
     },
     "execution_count": 12,
     "metadata": {},
     "output_type": "execute_result"
    }
   ],
   "source": [
    "pre_process.combine_generators(img_gen, mask_gen)"
   ]
  },
  {
   "cell_type": "code",
   "execution_count": 13,
   "metadata": {},
   "outputs": [
    {
     "name": "stdout",
     "output_type": "stream",
     "text": [
      "KerasTensor(type_spec=TensorSpec(shape=(None, 900, 900, 16), dtype=tf.float32, name=None), name='conv2d_1/Relu:0', description=\"created by layer 'conv2d_1'\")\n",
      "KerasTensor(type_spec=TensorSpec(shape=(None, 450, 450, 32), dtype=tf.float32, name=None), name='conv2d_3/Relu:0', description=\"created by layer 'conv2d_3'\")\n",
      "KerasTensor(type_spec=TensorSpec(shape=(None, 225, 225, 64), dtype=tf.float32, name=None), name='conv2d_5/Relu:0', description=\"created by layer 'conv2d_5'\")\n",
      "KerasTensor(type_spec=TensorSpec(shape=(None, 112, 112, 128), dtype=tf.float32, name=None), name='conv2d_7/Relu:0', description=\"created by layer 'conv2d_7'\")\n",
      "KerasTensor(type_spec=TensorSpec(shape=(None, 112, 112, 128), dtype=tf.float32, name=None), name='conv2d_transpose/BiasAdd:0', description=\"created by layer 'conv2d_transpose'\")\n",
      "KerasTensor(type_spec=TensorSpec(shape=(None, 224, 224, 64), dtype=tf.float32, name=None), name='cropping2d/strided_slice:0', description=\"created by layer 'cropping2d'\")\n",
      "KerasTensor(type_spec=TensorSpec(shape=(None, 449, 449, 32), dtype=tf.float32, name=None), name='cropping2d_1/strided_slice:0', description=\"created by layer 'cropping2d_1'\")\n"
     ]
    },
    {
     "ename": "ValueError",
     "evalue": "A `Concatenate` layer requires inputs with matching shapes except for the concatenation axis. Received: input_shape=[(None, 448, 448, 32), (None, 449, 449, 32)]",
     "output_type": "error",
     "traceback": [
      "\u001b[1;31m---------------------------------------------------------------------------\u001b[0m",
      "\u001b[1;31mValueError\u001b[0m                                Traceback (most recent call last)",
      "Cell \u001b[1;32mIn[13], line 3\u001b[0m\n\u001b[0;32m      1\u001b[0m input_layer \u001b[38;5;241m=\u001b[39m Input((\u001b[38;5;241m900\u001b[39m, \u001b[38;5;241m900\u001b[39m, \u001b[38;5;241m1\u001b[39m))\n\u001b[0;32m      2\u001b[0m \u001b[38;5;66;03m# 1. Initialize the model \u001b[39;00m\n\u001b[1;32m----> 3\u001b[0m model \u001b[38;5;241m=\u001b[39m \u001b[43mcnn\u001b[49m\u001b[38;5;241;43m.\u001b[39;49m\u001b[43munet_model\u001b[49m\u001b[43m(\u001b[49m\u001b[43minput_layer\u001b[49m\u001b[43m,\u001b[49m\u001b[43m \u001b[49m\u001b[38;5;241;43m16\u001b[39;49m\u001b[43m)\u001b[49m\n\u001b[0;32m      5\u001b[0m \u001b[38;5;66;03m# 2. Fit the model \u001b[39;00m\n\u001b[0;32m      6\u001b[0m model\u001b[38;5;241m.\u001b[39mcompile(optimizer \u001b[38;5;241m=\u001b[39m Adam(lr \u001b[38;5;241m=\u001b[39m \u001b[38;5;241m1e-3\u001b[39m), loss\u001b[38;5;241m=\u001b[39m\u001b[38;5;124m'\u001b[39m\u001b[38;5;124mbinary_crossentropy\u001b[39m\u001b[38;5;124m'\u001b[39m, metrics\u001b[38;5;241m=\u001b[39m[\u001b[38;5;124m'\u001b[39m\u001b[38;5;124maccuracy\u001b[39m\u001b[38;5;124m'\u001b[39m])\n",
      "File \u001b[1;32mc:\\Users\\saraa\\TFM\\Microscopy\\src\\cnn.py:214\u001b[0m, in \u001b[0;36munet_model\u001b[1;34m(input_layer, start_neurons)\u001b[0m\n\u001b[0;32m    212\u001b[0m cropped_conv2 \u001b[38;5;241m=\u001b[39m Cropping2D(((\u001b[38;5;241m0\u001b[39m, \u001b[38;5;241m1\u001b[39m), (\u001b[38;5;241m0\u001b[39m, \u001b[38;5;241m1\u001b[39m)))(conv2)\n\u001b[0;32m    213\u001b[0m \u001b[38;5;28mprint\u001b[39m(cropped_conv2)\n\u001b[1;32m--> 214\u001b[0m uconv2 \u001b[38;5;241m=\u001b[39m \u001b[43mconcatenate\u001b[49m\u001b[43m(\u001b[49m\u001b[43m[\u001b[49m\u001b[43mdeconv2\u001b[49m\u001b[43m,\u001b[49m\u001b[43m \u001b[49m\u001b[43mcropped_conv2\u001b[49m\u001b[43m]\u001b[49m\u001b[43m)\u001b[49m\n\u001b[0;32m    215\u001b[0m uconv2 \u001b[38;5;241m=\u001b[39m Dropout(\u001b[38;5;241m0.5\u001b[39m)(uconv2)\n\u001b[0;32m    216\u001b[0m uconv2 \u001b[38;5;241m=\u001b[39m Conv2D(start_neurons \u001b[38;5;241m*\u001b[39m \u001b[38;5;241m2\u001b[39m, (\u001b[38;5;241m3\u001b[39m, \u001b[38;5;241m3\u001b[39m), activation\u001b[38;5;241m=\u001b[39m\u001b[38;5;124m\"\u001b[39m\u001b[38;5;124mrelu\u001b[39m\u001b[38;5;124m\"\u001b[39m, padding\u001b[38;5;241m=\u001b[39m\u001b[38;5;124m\"\u001b[39m\u001b[38;5;124msame\u001b[39m\u001b[38;5;124m\"\u001b[39m)(uconv2)\n",
      "File \u001b[1;32mc:\\Users\\saraa\\miniconda3\\envs\\tfm\\lib\\site-packages\\keras\\layers\\merging\\concatenate.py:231\u001b[0m, in \u001b[0;36mconcatenate\u001b[1;34m(inputs, axis, **kwargs)\u001b[0m\n\u001b[0;32m    199\u001b[0m \u001b[38;5;129m@keras_export\u001b[39m(\u001b[38;5;124m\"\u001b[39m\u001b[38;5;124mkeras.layers.concatenate\u001b[39m\u001b[38;5;124m\"\u001b[39m)\n\u001b[0;32m    200\u001b[0m \u001b[38;5;28;01mdef\u001b[39;00m \u001b[38;5;21mconcatenate\u001b[39m(inputs, axis\u001b[38;5;241m=\u001b[39m\u001b[38;5;241m-\u001b[39m\u001b[38;5;241m1\u001b[39m, \u001b[38;5;241m*\u001b[39m\u001b[38;5;241m*\u001b[39mkwargs):\n\u001b[0;32m    201\u001b[0m \u001b[38;5;250m    \u001b[39m\u001b[38;5;124;03m\"\"\"Functional interface to the `Concatenate` layer.\u001b[39;00m\n\u001b[0;32m    202\u001b[0m \n\u001b[0;32m    203\u001b[0m \u001b[38;5;124;03m    >>> x = np.arange(20).reshape(2, 2, 5)\u001b[39;00m\n\u001b[1;32m   (...)\u001b[0m\n\u001b[0;32m    229\u001b[0m \u001b[38;5;124;03m        A tensor, the concatenation of the inputs alongside axis `axis`.\u001b[39;00m\n\u001b[0;32m    230\u001b[0m \u001b[38;5;124;03m    \"\"\"\u001b[39;00m\n\u001b[1;32m--> 231\u001b[0m     \u001b[38;5;28;01mreturn\u001b[39;00m \u001b[43mConcatenate\u001b[49m\u001b[43m(\u001b[49m\u001b[43maxis\u001b[49m\u001b[38;5;241;43m=\u001b[39;49m\u001b[43maxis\u001b[49m\u001b[43m,\u001b[49m\u001b[43m \u001b[49m\u001b[38;5;241;43m*\u001b[39;49m\u001b[38;5;241;43m*\u001b[39;49m\u001b[43mkwargs\u001b[49m\u001b[43m)\u001b[49m\u001b[43m(\u001b[49m\u001b[43minputs\u001b[49m\u001b[43m)\u001b[49m\n",
      "File \u001b[1;32mc:\\Users\\saraa\\miniconda3\\envs\\tfm\\lib\\site-packages\\keras\\utils\\traceback_utils.py:70\u001b[0m, in \u001b[0;36mfilter_traceback.<locals>.error_handler\u001b[1;34m(*args, **kwargs)\u001b[0m\n\u001b[0;32m     67\u001b[0m     filtered_tb \u001b[38;5;241m=\u001b[39m _process_traceback_frames(e\u001b[38;5;241m.\u001b[39m__traceback__)\n\u001b[0;32m     68\u001b[0m     \u001b[38;5;66;03m# To get the full stack trace, call:\u001b[39;00m\n\u001b[0;32m     69\u001b[0m     \u001b[38;5;66;03m# `tf.debugging.disable_traceback_filtering()`\u001b[39;00m\n\u001b[1;32m---> 70\u001b[0m     \u001b[38;5;28;01mraise\u001b[39;00m e\u001b[38;5;241m.\u001b[39mwith_traceback(filtered_tb) \u001b[38;5;28;01mfrom\u001b[39;00m \u001b[38;5;28;01mNone\u001b[39;00m\n\u001b[0;32m     71\u001b[0m \u001b[38;5;28;01mfinally\u001b[39;00m:\n\u001b[0;32m     72\u001b[0m     \u001b[38;5;28;01mdel\u001b[39;00m filtered_tb\n",
      "File \u001b[1;32mc:\\Users\\saraa\\miniconda3\\envs\\tfm\\lib\\site-packages\\keras\\layers\\merging\\concatenate.py:131\u001b[0m, in \u001b[0;36mConcatenate.build\u001b[1;34m(self, input_shape)\u001b[0m\n\u001b[0;32m    125\u001b[0m unique_dims \u001b[38;5;241m=\u001b[39m \u001b[38;5;28mset\u001b[39m(\n\u001b[0;32m    126\u001b[0m     shape[axis]\n\u001b[0;32m    127\u001b[0m     \u001b[38;5;28;01mfor\u001b[39;00m shape \u001b[38;5;129;01min\u001b[39;00m shape_set\n\u001b[0;32m    128\u001b[0m     \u001b[38;5;28;01mif\u001b[39;00m shape[axis] \u001b[38;5;129;01mis\u001b[39;00m \u001b[38;5;129;01mnot\u001b[39;00m \u001b[38;5;28;01mNone\u001b[39;00m\n\u001b[0;32m    129\u001b[0m )\n\u001b[0;32m    130\u001b[0m \u001b[38;5;28;01mif\u001b[39;00m \u001b[38;5;28mlen\u001b[39m(unique_dims) \u001b[38;5;241m>\u001b[39m \u001b[38;5;241m1\u001b[39m:\n\u001b[1;32m--> 131\u001b[0m     \u001b[38;5;28;01mraise\u001b[39;00m \u001b[38;5;167;01mValueError\u001b[39;00m(err_msg)\n",
      "\u001b[1;31mValueError\u001b[0m: A `Concatenate` layer requires inputs with matching shapes except for the concatenation axis. Received: input_shape=[(None, 448, 448, 32), (None, 449, 449, 32)]"
     ]
    }
   ],
   "source": [
    "input_layer = Input((900, 900, 1))\n",
    "# 1. Initialize the model \n",
    "model = cnn.unet_model(input_layer, 16)\n",
    "\n",
    "# 2. Fit the model \n",
    "model.compile(optimizer = Adam(lr = 1e-3), loss='binary_crossentropy', metrics=['accuracy'])\n",
    "model.summary()"
   ]
  }
 ],
 "metadata": {
  "kernelspec": {
   "display_name": "cell",
   "language": "python",
   "name": "python3"
  },
  "language_info": {
   "codemirror_mode": {
    "name": "ipython",
    "version": 3
   },
   "file_extension": ".py",
   "mimetype": "text/x-python",
   "name": "python",
   "nbconvert_exporter": "python",
   "pygments_lexer": "ipython3",
   "version": "3.9.18"
  }
 },
 "nbformat": 4,
 "nbformat_minor": 2
}
